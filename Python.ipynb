{
  "cells": [
    {
      "cell_type": "markdown",
      "metadata": {
        "id": "view-in-github",
        "colab_type": "text"
      },
      "source": [
        "<a href=\"https://colab.research.google.com/github/sunsun605/mypage/blob/main/Python.ipynb\" target=\"_parent\"><img src=\"https://colab.research.google.com/assets/colab-badge.svg\" alt=\"Open In Colab\"/></a>"
      ]
    },
    {
      "cell_type": "code",
      "execution_count": null,
      "metadata": {
        "colab": {
          "base_uri": "https://localhost:8080/"
        },
        "id": "O3Maj4mzUmFX",
        "outputId": "7b9d2a6a-b912-4ec5-d3b8-bdec635eb30e"
      },
      "outputs": [
        {
          "data": {
            "text/plain": [
              "8"
            ]
          },
          "execution_count": 1,
          "metadata": {},
          "output_type": "execute_result"
        }
      ],
      "source": [
        "3 + 5"
      ]
    },
    {
      "cell_type": "code",
      "execution_count": null,
      "metadata": {
        "colab": {
          "base_uri": "https://localhost:8080/"
        },
        "id": "DSuJDEOpV0De",
        "outputId": "bee857ed-fbb8-4797-bdc4-0a9c8881faab"
      },
      "outputs": [
        {
          "name": "stdout",
          "output_type": "stream",
          "text": [
            "10\n"
          ]
        }
      ],
      "source": [
        "a=10\n",
        "print(a)"
      ]
    },
    {
      "cell_type": "code",
      "execution_count": null,
      "metadata": {
        "colab": {
          "base_uri": "https://localhost:8080/"
        },
        "id": "dfBuMif4sZhm",
        "outputId": "88ed8762-c9f6-4254-a850-a9fefbca4e47"
      },
      "outputs": [
        {
          "data": {
            "text/plain": [
              "3.141592"
            ]
          },
          "execution_count": 3,
          "metadata": {},
          "output_type": "execute_result"
        }
      ],
      "source": [
        "3.141592"
      ]
    },
    {
      "cell_type": "code",
      "execution_count": null,
      "metadata": {
        "colab": {
          "base_uri": "https://localhost:8080/",
          "height": 36
        },
        "id": "Sac1SHzZsls9",
        "outputId": "c0646ae7-72eb-4ade-e9e9-88db1bd8380f"
      },
      "outputs": [
        {
          "data": {
            "application/vnd.google.colaboratory.intrinsic+json": {
              "type": "string"
            },
            "text/plain": [
              "'couputer'"
            ]
          },
          "execution_count": 4,
          "metadata": {},
          "output_type": "execute_result"
        }
      ],
      "source": [
        "\"couputer\""
      ]
    },
    {
      "cell_type": "code",
      "execution_count": null,
      "metadata": {
        "colab": {
          "base_uri": "https://localhost:8080/"
        },
        "id": "miVv20Hhsw9E",
        "outputId": "77a2fb5c-8bd0-4c69-d582-da268dba3b79"
      },
      "outputs": [
        {
          "data": {
            "text/plain": [
              "0"
            ]
          },
          "execution_count": 6,
          "metadata": {},
          "output_type": "execute_result"
        }
      ],
      "source": [
        "1//2"
      ]
    },
    {
      "cell_type": "code",
      "execution_count": null,
      "metadata": {
        "colab": {
          "base_uri": "https://localhost:8080/"
        },
        "id": "4E3-BhfQs-n4",
        "outputId": "2f347b17-d511-46d3-ce52-b2db59208a88"
      },
      "outputs": [
        {
          "data": {
            "text/plain": [
              "14"
            ]
          },
          "execution_count": 7,
          "metadata": {},
          "output_type": "execute_result"
        }
      ],
      "source": [
        "2*7"
      ]
    },
    {
      "cell_type": "code",
      "execution_count": null,
      "metadata": {
        "id": "0a1KPQT7tQx0"
      },
      "outputs": [],
      "source": [
        "print(8.4 % 0.9)"
      ]
    },
    {
      "cell_type": "code",
      "execution_count": null,
      "metadata": {
        "id": "fuPIYU4wRucv",
        "colab": {
          "base_uri": "https://localhost:8080/"
        },
        "outputId": "34f56adb-9963-4ae5-a19c-1505a93ce448"
      },
      "outputs": [
        {
          "output_type": "stream",
          "name": "stdout",
          "text": [
            "   *\n",
            "  ***\n",
            " *****\n",
            "*******\n"
          ]
        }
      ],
      "source": [
        "print(\"   *\")\n",
        "print(\"  ***\")\n",
        "print(\" *****\")\n",
        "print(\"*******\")"
      ]
    },
    {
      "cell_type": "code",
      "execution_count": null,
      "metadata": {
        "colab": {
          "base_uri": "https://localhost:8080/"
        },
        "id": "sdpr7jB9SQqL",
        "outputId": "2183673b-0017-4b77-e115-7375380a9458"
      },
      "outputs": [
        {
          "name": "stdout",
          "output_type": "stream",
          "text": [
            "반지름의 값을 입력하세요:30\n"
          ]
        }
      ],
      "source": [
        "rad=input(\"반지름의 값을 입력하세요:\")"
      ]
    },
    {
      "cell_type": "code",
      "execution_count": null,
      "metadata": {
        "id": "j4nkFVzKXr0L",
        "colab": {
          "base_uri": "https://localhost:8080/"
        },
        "outputId": "970f1396-bc5a-4833-b48f-96b165be208a"
      },
      "outputs": [
        {
          "output_type": "stream",
          "name": "stdout",
          "text": [
            "반지름을 입력하세요:30\n",
            "높이를 입력하세요:5\n",
            "부피의 값은 4710.0 입니다.\n",
            "겉넓이의 값은 3297.0 입니다.\n"
          ]
        }
      ],
      "source": [
        "#sep=\"\" -> ','사이는 자동 뛰어쓰기가 되나, sep함수를 사용하면 ','사이에 뛰어쓰기 안됨\n",
        "\n",
        "rad = int(input(\"반지름을 입력하세요:\"))\n",
        "hei = int(input(\"높이를 입력하세요:\"))\n",
        "if rad > 0 and hei > 0:\n",
        "    vol = 1/3 * 3.14 * rad ** 2 * hei\n",
        "    suf = 3.14 * rad ** 2 + 3.14 * rad * hei\n",
        "    print(\"부피의 값은\", vol, \"입니다.\")\n",
        "    print(\"겉넓이의 값은\", suf, \"입니다.\")\n",
        "else :\n",
        "    print(\"양수를 입력해주세요.\")"
      ]
    },
    {
      "cell_type": "code",
      "execution_count": null,
      "metadata": {
        "id": "PKfY3cPTtEgK",
        "colab": {
          "base_uri": "https://localhost:8080/"
        },
        "outputId": "473e1d77-e918-421d-b7b2-34a485c8bcab"
      },
      "outputs": [
        {
          "output_type": "stream",
          "name": "stdout",
          "text": [
            "A입력:90\n",
            "B입력:100\n",
            "C입력:0\n",
            "100\n"
          ]
        }
      ],
      "source": [
        "A= int(input(\"A입력:\"))\n",
        "B= int(input(\"B입력:\"))\n",
        "C= int(input(\"C입력:\"))\n",
        "\n",
        "if A > B :\n",
        "    if A > C :\n",
        "        print (A)\n",
        "    else :\n",
        "        print (C)\n",
        "else : \n",
        "    if B > C :\n",
        "        print(B)\n",
        "    else : \n",
        "        print(C)"
      ]
    },
    {
      "cell_type": "code",
      "execution_count": null,
      "metadata": {
        "id": "MapWhxgQpquR"
      },
      "outputs": [],
      "source": [
        "temp = 20\n",
        "fruit = \"apple\"\n",
        "\n",
        "print(not temp <=27)"
      ]
    },
    {
      "cell_type": "code",
      "execution_count": null,
      "metadata": {
        "id": "oDKQDTzF4p1H"
      },
      "outputs": [],
      "source": [
        "#while 반복-계속-조건:\n",
        "#<---->코드블록\n",
        "\n",
        "num=int(input(\"어디까지 더할까요?:\"))\n",
        "\n",
        "sum=0\n",
        "i=1\n",
        "\n",
        "while i <= num:\n",
        "         sum=sum+i\n",
        "         i=i+1\n",
        "print(sum)"
      ]
    },
    {
      "cell_type": "code",
      "execution_count": null,
      "metadata": {
        "id": "w-lzq0tWZsYI"
      },
      "outputs": [],
      "source": [
        "base = int(input(\"출력할 단을 입력하세요:\"))\n",
        "\n",
        "i=1\n",
        "while i <= 9:\n",
        "    print(base, \"X\", i, \"=\", base * 1)\n",
        "    i = i + 1"
      ]
    },
    {
      "cell_type": "code",
      "execution_count": null,
      "metadata": {
        "id": "4o13PsMzc6J9"
      },
      "outputs": [],
      "source": [
        "#for 계수-제어-변수 in 시퀀스:\n",
        "#<---->코드블록\n",
        "\n",
        "hei_list = [1, 4, 10, 15, 20]\n",
        "\n",
        "for hei in hei_list:\n",
        "    print(hei)"
      ]
    },
    {
      "cell_type": "code",
      "execution_count": null,
      "metadata": {
        "id": "5GDgwEztgcb2"
      },
      "outputs": [],
      "source": [
        "a= 10\n",
        "hei_list = [1, 5, 14, 26, 31]\n",
        "\n",
        "for hei in hei_list:\n",
        "    vol = 1/3 * 3.14 * a ** 2 * hei\n",
        "    suf = 3.14 * a ** 2 + 3.14 * a * hei\n",
        "    print(\"반지름\", a, \", \" \"높이\", hei, \"원뿔\") \n",
        "    print(\"부피:\", vol,\"높이\", suf)\n"
      ]
    },
    {
      "cell_type": "code",
      "execution_count": null,
      "metadata": {
        "id": "_UzBDeM2jYZZ"
      },
      "outputs": [],
      "source": [
        "#인덱스연산자 : 시퀀스 타입의 원소에 접근하는 연산자자\n",
        "#리스트 생성 자동화 -> range(a, b, k)\n",
        "#a를 생략시 기본값 0, k를 생략시 기본값 1\n",
        "#a부터 b보다 작은 값까지 K씩 증가시켜 시퀀스 생성\n",
        "#b보다 작은값이므로 예를들어 30까지 찾으려면 31이라고 입력력\n",
        "#1씩 증가할때 -> range(10, 31) 이렇게 써도됨\n",
        "#zip함수 : 여러 리스트의 값들을 하나씩 엮어서 가져옴옴\n",
        "\n",
        "a_list = range(10, 31, 10)\n",
        "hei_list = [1, 5, 14, 26, 31]\n",
        "\n",
        "for a, hei in zip(a_list, hei_list):\n",
        "    vol = 1/3 * 3.14 * a ** 2 * hei\n",
        "    suf = 3.14 * a ** 2 + 3.14 * a * hei\n",
        "    print(\"반지름\", a, \", \" \"높이\", hei, \"원뿔\") \n",
        "    print(\"부피:\", vol,\"높이\", suf)"
      ]
    },
    {
      "cell_type": "code",
      "execution_count": null,
      "metadata": {
        "id": "KLeyfJvTnk1U"
      },
      "outputs": [],
      "source": [
        "#중첩반복구조\n",
        "#반복구조 내 다른 반복구조를 내포한 형식\n",
        "#for 계수-제어-변수 in 시퀀스1:\n",
        "#<---->for 계수-제어-변수 in 시퀀스2:\n",
        "#<----><---->명령블록\n",
        "\n",
        "\n",
        "#for(변경 대상 데이터, 형식지정자)\n",
        "#>10s -> '>' 정렬방량 (오른쪽으로 정렬을 해라)\n",
        "#     -> '10' 필드폭\n",
        "#     -> 's' 데이터 타입 (d:정수, s:문자열)\n",
        "#정수타입은 우측정렬이 기본, 문자타입은 좌측정렬이 기본\n",
        "#ㅁㅁㅁㅁㅁㅁ구구단표 (왼쪽에 6칸 빈공간이 생김)\n",
        "print(format(\"구구단표\", \">20s\"))\n",
        "\n",
        "#표 머리 출력\n",
        "print(\" |\", end = \"\")\n",
        "for j in range(1,10):\n",
        "    print(\" \", j, end=\"\")\n",
        "\n",
        "#새로운 행 삽입 \n",
        "print()\n",
        "print(\"-------------------------------\")\n",
        "\n",
        "#구구단표 출력\n",
        "for i in range(1,10,1):\n",
        "    print(i,\"|\", end=\"\")\n",
        "    for j in range(1,10,1):\n",
        "        #'end' > 줄바꿈없이 연달아 같은 라인에 출력해라.\n",
        "        print(format(i * j,\">3d\"), end=\"\")\n",
        "    #라인을 바꾸기 위한 print()\n",
        "    print()"
      ]
    },
    {
      "cell_type": "code",
      "source": [
        "print(\"n    n**2    n**3\")\n",
        "print(\"===================\")\n",
        "print(\"1      1        1\")\n",
        "print(\"3      9       27\")\n",
        "print(\"5     25      125\")\n",
        "print(\"7     49      343\")\n"
      ],
      "metadata": {
        "id": "5hxhPR6ogCiV"
      },
      "execution_count": null,
      "outputs": []
    },
    {
      "cell_type": "code",
      "source": [
        "print(\"n    n**2    n**3\")\n",
        "print(\"===================\")\n",
        "n=1\n",
        "print(int(n),\"    \",int(n**2),\"     \",int(n**3))\n",
        "n=n+2\n",
        "print(int(n),\"    \",int(n**2),\"    \",int(n**3))\n",
        "n=n+2\n",
        "print(int(n),\"   \",int(n**2),\"   \",int(n**3))\n",
        "n=n+2\n",
        "print(int(n),\"   \",int(n**2),\"   \",int(n**3))"
      ],
      "metadata": {
        "id": "7cJDobQvnCuX"
      },
      "execution_count": null,
      "outputs": []
    },
    {
      "cell_type": "code",
      "source": [
        "g = int(input(\"점수를 입력하세요: \"))\n",
        "\n",
        "if g > 100 :\n",
        "    print (\"잘못된 점수입니다.\")\n",
        "elif 90 <= g <= 100 :\n",
        "    print (\"A입니다.\")\n",
        "elif 80 <= g <= 89 :\n",
        "    print (\"B입니다.\")\n",
        "elif 70 <= g <= 79 :\n",
        "    print (\"C입니다.\")\n",
        "elif 60 <= g <= 69 :\n",
        "    print (\"D입니다.\")\n",
        "elif 0 <= g <= 59 :\n",
        "    print (\"F입니다.\")\n",
        "else : \n",
        "    print (\"잘못된 점수입니다.\")\n"
      ],
      "metadata": {
        "id": "mUMOfN5-pSdr"
      },
      "execution_count": null,
      "outputs": []
    },
    {
      "cell_type": "code",
      "source": [
        "#반환값이 없는 함수 정의\n",
        "#print\n",
        "#함수 이름은 식별자\n",
        "#매개변수 리스트는 0개 이상의 값을 함수 내부로 전달\n",
        "#함수 내부에서 매개변수 리스트는 변수와 동일하게 사용\n",
        "\n",
        "#def 함수이름(매개변수 리스트):\n",
        "#<---->명령블록\n",
        "\n",
        "def prt_cone_vol(r, h) :\n",
        "    if r > 0 and h > 0 :\n",
        "        # r, h 모두 양수일 때\n",
        "        vol = 1/3 * 3.14 * r **2 * h\n",
        "        print(\"원뿔의 부피는\", vol, \"입니다.\")\n",
        "    else :\n",
        "        # r, h가 음수일 때\n",
        "        print(\"반지름과 높이 값에 양수를 입력하세요\")\n",
        "\n",
        "radius = 20\n",
        "height = -30\n",
        "\n",
        "prt_cone_vol(radius, height)\n"
      ],
      "metadata": {
        "id": "uk5U16YLKWio"
      },
      "execution_count": null,
      "outputs": []
    },
    {
      "cell_type": "code",
      "source": [
        "num = 1234\n",
        "\n",
        "def reverse_number(num):\n",
        "    #num이 0이 될때까지만 반복해라\n",
        "    while num !=0 :\n",
        "        digit = num % 10\n",
        "        #정수나누셈\n",
        "        num = num // 10\n",
        "        #end=\"\" 한 줄에 이어서 출력력\n",
        "        print(digit, end=\"\")\n",
        "\n",
        "reverse_number(num)"
      ],
      "metadata": {
        "colab": {
          "base_uri": "https://localhost:8080/"
        },
        "id": "GSdLYPinWWuO",
        "outputId": "0a8a71c1-5b03-404d-de82-a199e3d6c77e"
      },
      "execution_count": null,
      "outputs": [
        {
          "output_type": "stream",
          "name": "stdout",
          "text": [
            "4321"
          ]
        }
      ]
    },
    {
      "cell_type": "code",
      "source": [
        "#반환값이 있는 함수\n",
        "#return 명령어와 반환값을 열거\n",
        "#함수 내부에 여러 개의 return 사용 가능\n",
        "#첫 번째 teture이 나오는 순간, 그 뒤의 코드들은 실행되지 않음\n",
        "\n",
        "#def 함수이름(매개변수 리스트):\n",
        "#<---->명령블록\n",
        "#<---->return 반환값 리스트\n",
        "\n",
        "#format함수\n",
        "#실수 데이터 형식화 -> 형식지정자\n",
        "#>10.2f\n",
        "#> - 정렬방식\n",
        "#10 - 필드 폭\n",
        "#.2 - 소수점 이하 자리수\n",
        "#f - 데이터 타입 (실수)\n",
        "format(3.141592, \">10.3f\")\n",
        "#ㅁㅁㅁㅁㅁ3.141"
      ],
      "metadata": {
        "colab": {
          "base_uri": "https://localhost:8080/",
          "height": 36
        },
        "id": "yYFBVjQKaYPa",
        "outputId": "53027646-37b9-48ac-c788-5f1a1dbcf384"
      },
      "execution_count": 17,
      "outputs": [
        {
          "output_type": "execute_result",
          "data": {
            "text/plain": [
              "'     3.142'"
            ],
            "application/vnd.google.colaboratory.intrinsic+json": {
              "type": "string"
            }
          },
          "metadata": {},
          "execution_count": 17
        }
      ]
    },
    {
      "cell_type": "code",
      "source": [
        "def rtn_cone_vol(r, h) :\n",
        "    if r > 0 and h > 0 :\n",
        "        # r, h 모두 양수일 때\n",
        "        vol = 1/3 * 3.14 * r **2 * h\n",
        "        r, h = 0, 0\n",
        "        return vol\n",
        "    else :\n",
        "        # r, h가 음수일 때\n",
        "        print(\"반지름과 높이 값에 양수를 입력하세요\")\n",
        "\n",
        "rad = 10\n",
        "hei = 50\n",
        "print(format(rtn_cone_vol(10, 20), \"<20.3f\"), \"입니다.\")\n",
        "print(rad, hei)"
      ],
      "metadata": {
        "colab": {
          "base_uri": "https://localhost:8080/"
        },
        "id": "9xLWSgBTeGCe",
        "outputId": "f03f49e2-5d4a-407e-82e5-e7fcf9eb6870"
      },
      "execution_count": 3,
      "outputs": [
        {
          "output_type": "stream",
          "name": "stdout",
          "text": [
            "2093.333             입니다.\n",
            "10 50\n"
          ]
        }
      ]
    },
    {
      "cell_type": "code",
      "source": [
        "def rtn_cone_vol_surf(r, h) :\n",
        "    if r > 0 and h > 0 :\n",
        "        # r, h 모두 양수일 때\n",
        "        vol = 1/3 * 3.14 * r **2 * h\n",
        "        surf = 3.14 * r ** 2 + 3.14 * r * h\n",
        "        return vol, surf\n",
        "    else :\n",
        "        # r, h가 음수일 때\n",
        "        print(\"반지름과 높이 값에 양수를 입력하세요\")\n",
        "\n",
        "vol1, surf1 = rtn_cone_vol_surf(50, 100)\n",
        "print(vol1, \"입니다.\")\n",
        "print(surf1, \"입니다.\")"
      ],
      "metadata": {
        "colab": {
          "base_uri": "https://localhost:8080/"
        },
        "id": "Gn7-sl_0jqAZ",
        "outputId": "a15435ea-f491-4f96-de3a-97f9f197105b"
      },
      "execution_count": null,
      "outputs": [
        {
          "output_type": "stream",
          "name": "stdout",
          "text": [
            "261666.66666666666 입니다.\n",
            "23550.0 입니다.\n"
          ]
        }
      ]
    },
    {
      "cell_type": "code",
      "source": [
        "#세 개의 사용자 입력을 오름차순으로 정렬\n",
        "\n",
        "a = int(input(\"첫번째 숫자를 입력하세요: \"))\n",
        "b = int(input(\"두번째 숫자를 입력하세요: \"))\n",
        "c = int(input(\"세번째 숫자를 입력하세요: \"))\n",
        "\n",
        "def sort3(a, b, c) :\n",
        "    if a > b :\n",
        "        a, b = b, a\n",
        "    if a > c :\n",
        "        a, c = c, a\n",
        "    if b > c :\n",
        "         b, c = c, b\n",
        "    print(a, b, c)\n",
        "\n",
        "sort3(a, b, c)\n",
        "       "
      ],
      "metadata": {
        "id": "8QUSOgcmknMp",
        "outputId": "431bf50a-18f3-4d13-8552-83fc3143df07",
        "colab": {
          "base_uri": "https://localhost:8080/"
        }
      },
      "execution_count": 2,
      "outputs": [
        {
          "output_type": "stream",
          "name": "stdout",
          "text": [
            "첫번째 숫자를 입력하세요: 34\n",
            "두번째 숫자를 입력하세요: 12\n",
            "세번째 숫자를 입력하세요: 100\n",
            "12 34 100\n"
          ]
        }
      ]
    },
    {
      "cell_type": "code",
      "source": [
        "#값의 전달 -> 함수가 호출될 때, 값이 형식 매개변수에 전달\n",
        "#변수의 스코프 -> 프로그램에서 변수가 참조될 수 있는 영역\n",
        "#전역변수 -> 프로그램 전체 영역에서 접근\n",
        "#지역변수 -> 선언된 함수 내부에서만 접근\n",
        "\n",
        "#기본 매개변수 -> 함수 호출 시 매개변수가 전달되지 않을 경우 기본값이 전달되는 매개변수\n",
        "#def 함수이름(매개변수 리스트, 매개변수 = 값리스트):\n",
        "#<---->명령블록\n",
        "#<---->return 반환값 리스트\n",
        "#일반 매개변수 앞에 위치할 수 없음\n",
        "\n",
        "#가변 매개변수 -> 변수의 개수가 한정되지 않은 변수\n",
        "#def 함수이름(매개변수 리스트, *가변 매개변수):\n",
        "#<---->명령블록\n",
        "#<---->return 반환값 리스트\n",
        "#일반 매개변수 앞에 위치할 수 없음\n",
        "#가변 매개변수는 1개만 사용가능\n",
        "#*가변 매개변수 : 리스트의 형태로 전달 -> for문"
      ],
      "metadata": {
        "id": "sBN_ihqXYY8K"
      },
      "execution_count": null,
      "outputs": []
    },
    {
      "cell_type": "code",
      "source": [
        "def rtn_cone_vol(r, h) :\n",
        "    if r > 0 and h > 0 :\n",
        "        # r, h 모두 양수일 때\n",
        "        vol = 1/3 * 3.14 * r **2 * h\n",
        "        surf = 3.14 * r ** 2 + 3.14 * r * h\n",
        "        r, h = 0, 0\n",
        "        return vol\n",
        "    else :\n",
        "        # r, h가 음수일 때\n",
        "        print(\"반지름과 높이 값에 양수를 입력하세요\")\n",
        "\n",
        "r = 50\n",
        "h = 100\n",
        "print(format(rtn_cone_vol(r, h), \">10.3f\"))\n",
        "\n",
        "#함수 내부에서의 변수와 함수 외부에서의 변수는 다르다"
      ],
      "metadata": {
        "id": "_tKZ21NadgVP",
        "outputId": "321da276-36f3-4401-9a95-64a9f69a01b0",
        "colab": {
          "base_uri": "https://localhost:8080/"
        }
      },
      "execution_count": 6,
      "outputs": [
        {
          "output_type": "stream",
          "name": "stdout",
          "text": [
            "261666.667\n"
          ]
        }
      ]
    },
    {
      "cell_type": "code",
      "source": [
        "x = 1\n",
        "print(\"1. x의 값은\", x)\n",
        "\n",
        "def inc(x) :\n",
        "    x = x + 1\n",
        "    print(\"2. x의 값은\", x)\n",
        "\n",
        "inc(x)\n",
        "print(\"3. x의 값은\", x)"
      ],
      "metadata": {
        "id": "pKJPXBmTenjF",
        "outputId": "43daae74-dc8a-4da5-ae35-30d3731b8835",
        "colab": {
          "base_uri": "https://localhost:8080/"
        }
      },
      "execution_count": 11,
      "outputs": [
        {
          "output_type": "stream",
          "name": "stdout",
          "text": [
            "1. x의 값은 1\n",
            "2. x의 값은 2\n",
            "3. x의 값은 1\n"
          ]
        }
      ]
    },
    {
      "cell_type": "code",
      "source": [
        "#단위 원뿔 계산\n",
        "\n",
        "def rtn_cone_vol_surf(r = 20, h = 30) :\n",
        "    if r > 0 and h > 0 :\n",
        "        # r, h 모두 양수일 때\n",
        "        return 1/3 * 3.14 * r **2 * h, 3.14 * r ** 2 + 3.14 * r * h\n",
        "    else :\n",
        "        # r, h가 음수일 때\n",
        "        print(\"반지름과 높이 값에 양수를 입력하세요\")\n",
        "\n",
        "print(rtn_cone_vol_surf())"
      ],
      "metadata": {
        "id": "vmY33Mz3fPkA",
        "outputId": "0e288302-23f6-4bda-a9c8-c2b52522c2e8",
        "colab": {
          "base_uri": "https://localhost:8080/"
        }
      },
      "execution_count": 12,
      "outputs": [
        {
          "output_type": "stream",
          "name": "stdout",
          "text": [
            "(12559.999999999998, 3140.0)\n"
          ]
        }
      ]
    },
    {
      "cell_type": "code",
      "source": [
        "#파라미터의 개수가 가변적인 형태의 함수\n",
        "def var_sum_avg(*numbers) :\n",
        "    sum = 0\n",
        "    count = 0\n",
        "\n",
        "    for i in numbers : \n",
        "        sum = sum + i\n",
        "        count = count + 1\n",
        "\n",
        "    return sum, sum/count\n",
        "\n",
        "print(var_sum_avg(20, 25, 10, 85, 100, 150))"
      ],
      "metadata": {
        "id": "bvhJnJ86f5Jw",
        "outputId": "91db31e6-413c-4f23-e7a4-8d77f13c3b09",
        "colab": {
          "base_uri": "https://localhost:8080/"
        }
      },
      "execution_count": 16,
      "outputs": [
        {
          "output_type": "stream",
          "name": "stdout",
          "text": [
            "(390, 65.0)\n"
          ]
        }
      ]
    }
  ],
  "metadata": {
    "colab": {
      "provenance": [],
      "authorship_tag": "ABX9TyMpFcm8Tuu7jbPJ2GJhAgbQ",
      "include_colab_link": true
    },
    "kernelspec": {
      "display_name": "Python 3",
      "name": "python3"
    },
    "language_info": {
      "name": "python"
    }
  },
  "nbformat": 4,
  "nbformat_minor": 0
}